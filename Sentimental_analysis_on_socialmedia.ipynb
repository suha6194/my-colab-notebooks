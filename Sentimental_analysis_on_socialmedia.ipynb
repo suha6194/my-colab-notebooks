{
  "nbformat": 4,
  "nbformat_minor": 0,
  "metadata": {
    "colab": {
      "provenance": []
    },
    "kernelspec": {
      "name": "python3",
      "display_name": "Python 3"
    },
    "language_info": {
      "name": "python"
    }
  },
  "cells": [
    {
      "cell_type": "code",
      "execution_count": 1,
      "metadata": {
        "colab": {
          "base_uri": "https://localhost:8080/"
        },
        "id": "3b3ie8BWOfyv",
        "outputId": "1597ba98-53e9-4a3f-be0c-b78b4e3a0a04"
      },
      "outputs": [
        {
          "output_type": "stream",
          "name": "stderr",
          "text": [
            "[nltk_data] Downloading package stopwords to /root/nltk_data...\n",
            "[nltk_data]   Unzipping corpora/stopwords.zip.\n"
          ]
        },
        {
          "output_type": "stream",
          "name": "stdout",
          "text": [
            "Accuracy: 0.9496324104489285\n",
            "Classification Report:\n",
            "               precision    recall  f1-score   support\n",
            "\n",
            "           0       0.95      1.00      0.97      5937\n",
            "           1       0.91      0.32      0.48       456\n",
            "\n",
            "    accuracy                           0.95      6393\n",
            "   macro avg       0.93      0.66      0.73      6393\n",
            "weighted avg       0.95      0.95      0.94      6393\n",
            "\n",
            "Input: I love this product! It's fantastic.\n",
            "Predicted Sentiment: Positive\n"
          ]
        }
      ],
      "source": [
        "# !pip install pandas numpy scikit-learn nltk\n",
        "\n",
        "import pandas as pd\n",
        "import numpy as np\n",
        "import re\n",
        "import string\n",
        "from sklearn.model_selection import train_test_split\n",
        "from sklearn.feature_extraction.text import TfidfVectorizer\n",
        "from sklearn.linear_model import LogisticRegression\n",
        "from sklearn.metrics import accuracy_score, classification_report\n",
        "import nltk\n",
        "from nltk.corpus import stopwords\n",
        "\n",
        "nltk.download('stopwords')\n",
        "stop_words = set(stopwords.words('english'))\n",
        "\n",
        "# 1. Load Sample Dataset\n",
        "# For demo: using a small open Twitter dataset\n",
        "data = pd.read_csv(\"https://raw.githubusercontent.com/dD2405/Twitter_Sentiment_Analysis/master/train.csv\")\n",
        "data = data[['tweet', 'label']]\n",
        "data.columns = ['text', 'label']\n",
        "\n",
        "# 2. Preprocess Text\n",
        "def clean_text(text):\n",
        "    text = text.lower()\n",
        "    text = re.sub(r\"http\\S+|www\\S+|https\\S+\", '', text, flags=re.MULTILINE)  # Remove URLs\n",
        "    text = re.sub(r'\\@w+|\\#','', text)  # for Removing @mentions and hashtags\n",
        "    text = re.sub(r'[^A-Za-z\\s]', '', text)  # for Removing punctuation\n",
        "    tokens = text.split()\n",
        "    tokens = [word for word in tokens if word not in stop_words]\n",
        "    return \" \".join(tokens)\n",
        "\n",
        "data['clean_text'] = data['text'].apply(clean_text)\n",
        "\n",
        "# 3. Convert Text to TF-IDF Features\n",
        "vectorizer = TfidfVectorizer(max_features=5000)\n",
        "X = vectorizer.fit_transform(data['clean_text'])\n",
        "y = data['label']\n",
        "\n",
        "# 4. Train-Test Split\n",
        "X_train, X_test, y_train, y_test = train_test_split(X, y, test_size=0.2, random_state=42)\n",
        "\n",
        "# 5. Train Logistic Regression Model\n",
        "model = LogisticRegression()\n",
        "model.fit(X_train, y_train)\n",
        "\n",
        "# 6. Evaluate the Model\n",
        "y_pred = model.predict(X_test)\n",
        "print(\"Accuracy:\", accuracy_score(y_test, y_pred))\n",
        "print(\"Classification Report:\\n\", classification_report(y_test, y_pred))\n",
        "\n",
        "# 7. Test the Model\n",
        "def predict_sentiment(sentence):\n",
        "    sentence_clean = clean_text(sentence)\n",
        "    vector = vectorizer.transform([sentence_clean])\n",
        "    prediction = model.predict(vector)[0]\n",
        "    sentiment = 'Positive' if prediction == 0 else 'Negative'\n",
        "    return sentiment\n",
        "\n",
        "# Testing example\n",
        "test_text = \"I love this product! It's fantastic.\"\n",
        "print(f\"Input: {test_text}\")\n",
        "print(\"Predicted Sentiment:\", predict_sentiment(test_text))"
      ]
    }
  ]
}